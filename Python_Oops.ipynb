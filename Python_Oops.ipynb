{
  "nbformat": 4,
  "nbformat_minor": 0,
  "metadata": {
    "colab": {
      "provenance": [],
      "authorship_tag": "ABX9TyPa3lkasZh/fMlQLiEHygTa",
      "include_colab_link": true
    },
    "kernelspec": {
      "name": "python3",
      "display_name": "Python 3"
    },
    "language_info": {
      "name": "python"
    }
  },
  "cells": [
    {
      "cell_type": "markdown",
      "metadata": {
        "id": "view-in-github",
        "colab_type": "text"
      },
      "source": [
        "<a href=\"https://colab.research.google.com/github/mahindragudimetla/Python/blob/main/Python_Oops.ipynb\" target=\"_parent\"><img src=\"https://colab.research.google.com/assets/colab-badge.svg\" alt=\"Open In Colab\"/></a>"
      ]
    },
    {
      "cell_type": "code",
      "source": [],
      "metadata": {
        "id": "IHXJhl7zuLtZ"
      },
      "execution_count": null,
      "outputs": []
    },
    {
      "cell_type": "markdown",
      "source": [
        "# **Object Oriented Programming(OOP's):-**\n",
        "Python is a versatile programming language that supports various programming styles, including object-oriented programming (OOP) through the use of objects and classes.\n",
        "\n",
        "**Python Class and Objects:-**\n",
        "\n",
        "A Class is like an object constructor, or a \"blueprint\" for creating objects.\n",
        "\n",
        "**Creating a Class:-**\n",
        "\n",
        "To create a class, use the keyword class:\n",
        "\n",
        "`class class_name: body of class`\n",
        "\n",
        "Ex:-\n",
        "```\n",
        "class Example:\n",
        "    a=10\n",
        "```\n",
        "---\n",
        "**Creating an Object:-**\n",
        "\n",
        "Now we can use the class named MyClass to create objects:\n",
        "1. Object is physical entity\n",
        "2. we can create any No. of object for class\n",
        "3. Memory is allocated when we create object for class\n",
        "```\n",
        "ex1=Example()\n",
        "print(ex1.a)\n",
        "#out:-10\n",
        "```\n",
        "---\n",
        "**The self Parameter:-**\n",
        "\n",
        "The self parameter is a reference to the current instance of the class, and is used to access variables that belongs to the class.\n",
        "\n",
        "It does not have to be named self , you can call it whatever you like, but it has to be the first parameter of any function in the class:\n",
        "```\n",
        "class self():\n",
        "    def __init__(self):\n",
        "        print(\"Hello world\")\n",
        "obj = self()\n",
        "#out:-Hello World\n",
        "```\n",
        "---\n",
        "**The init() Function:-**\n",
        "\n",
        "The init method (pronounced \"dunder init\") is called the constructor.\n",
        "\n",
        "It is automatically executed when an object is created from a class.\n",
        "\n",
        "Its purpose is to initialize the attributes of the object.\n",
        "\n",
        "```\n",
        "class Dog:\n",
        "    def __init__(self, name, age, location):\n",
        "        self.name = name\n",
        "        self.age = age\n",
        "        self.location = location\n",
        "# Creating a Dog object\n",
        "my_dog = Dog(name=\"Buddy\", age=3)\n",
        "print(my_dog)\n",
        "```\n",
        "\n",
        "\n",
        "---\n",
        "\n",
        "\n",
        "**str Method:-**\n",
        "\n",
        "The str method is used to provide a human-readable string representation of the object.\n",
        "\n",
        "It is called when the str() function is used on an object or when print() is called with an object.\n",
        "```\n",
        "class Dog:\n",
        "    def __init__(self, name, age):\n",
        "        self.name = name\n",
        "        self.age = age\n",
        "    def __str__(self):\n",
        "        return f\"{self.name}, {self.age} years old\"\n",
        "# Creating a Dog object\n",
        "my_dog = Dog(name=\"Buddy\", age=3)\n",
        "# Using str() or print() on the object\n",
        "#print(str(my_dog))  # Output: Buddy, 3 years old\n",
        "print(my_dog)       # Output: Buddy, 3 years old\n",
        "```\n",
        "In this example, the str method is defined to return a formatted string representing the dog's name and age.\n",
        "\n",
        "When str() or print() is called on the my_dog object, the str method is invoked, providing a readable output.\n",
        "\n",
        "---\n",
        "\n",
        "\n"
      ],
      "metadata": {
        "id": "9wan_LbEhFJV"
      }
    },
    {
      "cell_type": "code",
      "source": [],
      "metadata": {
        "id": "PvnncCdok9p9"
      },
      "execution_count": null,
      "outputs": []
    },
    {
      "cell_type": "markdown",
      "source": [
        "# **1.Inheritence:-**\n",
        "\n",
        "Inheritance is a way of creating a new class for using details of an existing class without modifying it.\n",
        "\n",
        "The newly formed class is a derived class (or child class). Similarly, the existing class is a base class (or parent class).\n",
        "```\n",
        "# base class\n",
        "class Animal:\n",
        "    def eat(self):\n",
        "        print( \"I can eat!\")\n",
        "    def sleep(self):\n",
        "        print(\"I can sleep!\")\n",
        "# derived class\n",
        "class Dog(Animal):\n",
        "    def bark(self):\n",
        "        print(\"I can bark! Woof woof!!\")\n",
        "class Cat(Animal):\n",
        "    def Mayoo(self):\n",
        "        print(\" I can Mayoo! Mayoo!\")\n",
        "# Create object of the Dog class\n",
        "dog1 = Dog()\n",
        "# Calling members of the base class\n",
        "dog1.eat()\n",
        "dog1.sleep()\n",
        "# Calling member of the derived class\n",
        "dog1.bark();\n",
        "#obj2 = Cat()\n",
        "#obj2.eat()\n",
        "#obj2.sleep()\n",
        "#obj2.Mayoo()\n",
        "\"\"\"\n",
        "out:-\n",
        "I can eat!\n",
        "I can sleep!\n",
        "I can bark! Woof woof!!\n",
        "\"\"\"\n",
        "```\n",
        "\n",
        "\n"
      ],
      "metadata": {
        "id": "JZ2mLiBclAF3"
      }
    },
    {
      "cell_type": "code",
      "source": [
        "# base class\n",
        "class Animal:\n",
        "    def eat(self):\n",
        "        print( \"I can eat!\")\n",
        "    def sleep(self):\n",
        "        print(\"I can sleep!\")\n",
        "# derived class\n",
        "class Dog(Animal):\n",
        "    def bark(self):\n",
        "        print(\"I can bark! Woof woof!!\")\n",
        "class Cat(Animal):\n",
        "    def Mayoo(self):\n",
        "        print(\" I can Mayoo! Mayoo!\")\n",
        "# Create object of the Dog class\n",
        "dog1 = Dog()\n",
        "# Calling members of the base class\n",
        "dog1.eat()\n",
        "dog1.sleep()\n",
        "# Calling member of the derived class\n",
        "dog1.bark();\n",
        "#obj2 = Cat()\n",
        "#obj2.eat()\n",
        "#obj2.sleep()\n",
        "#obj2.Mayoo()"
      ],
      "metadata": {
        "colab": {
          "base_uri": "https://localhost:8080/"
        },
        "id": "PeoORSVClfHF",
        "outputId": "9254943f-fb5b-49ff-d3fe-f183e9a95449"
      },
      "execution_count": 1,
      "outputs": [
        {
          "output_type": "stream",
          "name": "stdout",
          "text": [
            "I can eat!\n",
            "I can sleep!\n",
            "I can bark! Woof woof!!\n"
          ]
        }
      ]
    },
    {
      "cell_type": "markdown",
      "source": [
        "# **2.Encapsulation:-**\n",
        "\n",
        "Encapsulation is one of the key features of object-oriented programming.\n",
        "\n",
        "Encapsulation refers to the bundling of attributes and methods inside a single class.\n",
        "\n",
        "wrapping data and methods that work with data in one unit.\n",
        "\n",
        "This also helps to achieve data hiding.\n",
        "\n",
        "In Python, we denote private attributes using underscore as the prefix i.e single _(Protected) or double __ (Private) and Public. For example,\n",
        "```\n",
        "class Demo():\n",
        "    def __init__(self,a,b):\n",
        "        self.__a = a # Private\n",
        "        self._b = b\n",
        "        #print(self.__a)\n",
        "class Demo1(Demo):\n",
        "    def output(self):\n",
        "        print(self._b)\n",
        "d = Demo(3,4)\n",
        "d.output()\n",
        "#out:-'Demo' object has no attribute 'output'\n",
        "```\n",
        "\n"
      ],
      "metadata": {
        "id": "3Vjolk5XlocW"
      }
    },
    {
      "cell_type": "code",
      "source": [
        "class Demo():\n",
        "    def __init__(self,a,b):\n",
        "        self.__a = a # Private\n",
        "        self._b = b\n",
        "        print(self.__a)\n",
        "class Demo1(Demo):\n",
        "    def output(self):\n",
        "        print(self._b)\n",
        "d = Demo(3,4)\n",
        "d.output()"
      ],
      "metadata": {
        "colab": {
          "base_uri": "https://localhost:8080/",
          "height": 193
        },
        "id": "yo4Nf2cPmivX",
        "outputId": "402614f1-ef4c-4b3a-8f8c-a63d9b87b387"
      },
      "execution_count": 4,
      "outputs": [
        {
          "output_type": "stream",
          "name": "stdout",
          "text": [
            "3\n"
          ]
        },
        {
          "output_type": "error",
          "ename": "AttributeError",
          "evalue": "'Demo' object has no attribute 'output'",
          "traceback": [
            "\u001b[0;31m---------------------------------------------------------------------------\u001b[0m",
            "\u001b[0;31mAttributeError\u001b[0m                            Traceback (most recent call last)",
            "\u001b[0;32m<ipython-input-4-86ab003360d1>\u001b[0m in \u001b[0;36m<cell line: 0>\u001b[0;34m()\u001b[0m\n\u001b[1;32m      8\u001b[0m         \u001b[0mprint\u001b[0m\u001b[0;34m(\u001b[0m\u001b[0mself\u001b[0m\u001b[0;34m.\u001b[0m\u001b[0m_b\u001b[0m\u001b[0;34m)\u001b[0m\u001b[0;34m\u001b[0m\u001b[0;34m\u001b[0m\u001b[0m\n\u001b[1;32m      9\u001b[0m \u001b[0md\u001b[0m \u001b[0;34m=\u001b[0m \u001b[0mDemo\u001b[0m\u001b[0;34m(\u001b[0m\u001b[0;36m3\u001b[0m\u001b[0;34m,\u001b[0m\u001b[0;36m4\u001b[0m\u001b[0;34m)\u001b[0m\u001b[0;34m\u001b[0m\u001b[0;34m\u001b[0m\u001b[0m\n\u001b[0;32m---> 10\u001b[0;31m \u001b[0md\u001b[0m\u001b[0;34m.\u001b[0m\u001b[0moutput\u001b[0m\u001b[0;34m(\u001b[0m\u001b[0;34m)\u001b[0m\u001b[0;34m\u001b[0m\u001b[0;34m\u001b[0m\u001b[0m\n\u001b[0m",
            "\u001b[0;31mAttributeError\u001b[0m: 'Demo' object has no attribute 'output'"
          ]
        }
      ]
    },
    {
      "cell_type": "code",
      "source": [],
      "metadata": {
        "id": "f9BSS_EQmlu5"
      },
      "execution_count": 4,
      "outputs": []
    },
    {
      "cell_type": "markdown",
      "source": [
        "# **3.Polymorphism:-**\n",
        "Polymorphism is another important concept of object-oriented programming. It simply means more than one form.\n",
        "\n",
        "That is, the same entity (method or operator or object) can perform different operations in different scenarios.\n",
        "```\n",
        "class calculator:\n",
        "  def add(self, a, b):\n",
        "    return a+b\n",
        "  def sub(self, a, b):\n",
        "    return a-b\n",
        "  def mul(self, a, b):\n",
        "    return a*b\n",
        "  def div(self, a, b):\n",
        "    return a/b\n",
        "  def mod(self, a, b):\n",
        "    return a%b\n",
        "  def power(self, a, b):\n",
        "    return a**b\n",
        "  def floor(self, a, b):\n",
        "    return a//b\n",
        "obj1=calculator()\n",
        "print(obj1.add(2,3))\n",
        "print(obj1.mul(3,3.5))\n",
        "```\n",
        "\n",
        "\n"
      ],
      "metadata": {
        "id": "ZKmsUVp3my39"
      }
    },
    {
      "cell_type": "code",
      "source": [
        "class calculator:\n",
        "  def add(self, a, b):\n",
        "    return a+b\n",
        "  def sub(self, a, b):\n",
        "    return a-b\n",
        "  def mul(self, a, b):\n",
        "    return a*b\n",
        "  def div(self, a, b):\n",
        "    return a/b\n",
        "  def mod(self, a, b):\n",
        "    return a%b\n",
        "  def power(self, a, b):\n",
        "    return a**b\n",
        "  def floor(self, a, b):\n",
        "    return a//b\n",
        "obj1=calculator()\n",
        "print(obj1.add(2,3))\n",
        "print(obj1.mul(3,3.5))"
      ],
      "metadata": {
        "colab": {
          "base_uri": "https://localhost:8080/"
        },
        "id": "UFzsgXEEn7AD",
        "outputId": "d63b1d8d-4250-4e0f-df62-cc7518cc5f1e"
      },
      "execution_count": 9,
      "outputs": [
        {
          "output_type": "stream",
          "name": "stdout",
          "text": [
            "5\n",
            "10.5\n"
          ]
        }
      ]
    },
    {
      "cell_type": "code",
      "source": [],
      "metadata": {
        "id": "u2outeQpoLP9"
      },
      "execution_count": null,
      "outputs": []
    },
    {
      "cell_type": "markdown",
      "source": [
        "# **4.Abstration:-**\n",
        "\n",
        "Hiding the unnecessary details.\n",
        "\n",
        "Abstraction allows you to focus on what an object does rather than how it achieves its functionality.\n",
        "```\n",
        "class Car:\n",
        "    def start_engine(self):\n",
        "        pass  # Abstract method, implementation details hidden\n",
        "    def drive(self):\n",
        "        pass  # Abstract method, implementation details hidden\n",
        "    def stop_engine(self):\n",
        "        pass  # Abstract method, implementation details hidden\n",
        "```\n",
        "\n"
      ],
      "metadata": {
        "id": "rJN_O_4-obwk"
      }
    },
    {
      "cell_type": "code",
      "source": [],
      "metadata": {
        "id": "GO_J7nQzo1GB"
      },
      "execution_count": null,
      "outputs": []
    },
    {
      "cell_type": "markdown",
      "source": [
        "**Key Points to Remember:-**\n",
        "1. Object-Oriented Programming makes the program easy to understand as well as efficient.\n",
        "2. Since the class is sharable, the code can be reused.\n",
        "3. Data is safe and secure with data abstraction.\n",
        "4. Polymorphism allows the same interface for different objects, so programmers can write efficient code."
      ],
      "metadata": {
        "id": "udZ9alBAo-kr"
      }
    },
    {
      "cell_type": "code",
      "source": [],
      "metadata": {
        "id": "Ri0n7HaHpBDd"
      },
      "execution_count": null,
      "outputs": []
    },
    {
      "cell_type": "markdown",
      "source": [],
      "metadata": {
        "id": "oIPOvhg2pR7v"
      }
    }
  ]
}