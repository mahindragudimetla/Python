{
  "nbformat": 4,
  "nbformat_minor": 0,
  "metadata": {
    "colab": {
      "provenance": [],
      "authorship_tag": "ABX9TyOurqHuI9uOGk2fmoeXtvqw",
      "include_colab_link": true
    },
    "kernelspec": {
      "name": "python3",
      "display_name": "Python 3"
    },
    "language_info": {
      "name": "python"
    }
  },
  "cells": [
    {
      "cell_type": "markdown",
      "metadata": {
        "id": "view-in-github",
        "colab_type": "text"
      },
      "source": [
        "<a href=\"https://colab.research.google.com/github/mahindragudimetla/Python/blob/main/Python_tuples.ipynb\" target=\"_parent\"><img src=\"https://colab.research.google.com/assets/colab-badge.svg\" alt=\"Open In Colab\"/></a>"
      ]
    },
    {
      "cell_type": "code",
      "execution_count": null,
      "metadata": {
        "id": "N_dEtr_wjDf-"
      },
      "outputs": [],
      "source": []
    },
    {
      "cell_type": "markdown",
      "source": [
        "# **IX. Tuples:-**\n",
        "Tuples are used to store multiple items in a single variable.\n",
        "\n",
        "Tuple is one of 4 built-in data types in Python used to store collections of data, the other 3 are List, Set, and Dictionary, all with different qualities and usage.\n",
        "\n",
        "A tuple is a collection which is ordered and unchangeable.\n",
        "\n",
        "Tuples are written with round brackets.\n",
        "```\n",
        "thistuple = (\"apple\", \"banana\", \"cherry\")\n",
        "print(thistuple)\n",
        "```\n",
        "Tuple items are ordered, unchangeable, and allow duplicate values.\n",
        "\n",
        "Tuple items are indexed, the first item has index [0], the second item has index [1] etc.\n",
        "\n",
        "Inorder to create a tuple with a single element it is mandatory to place a comma( , ) after the first element if not it will not be considered as a tuple\n",
        "```\n",
        "thistuple = (\"apple\",)\n",
        "print(type(thistuple)) #out:- tuple\n",
        "a=(1)\n",
        "print(type(a)) #out: int\n",
        "```\n",
        "\n",
        "**Tuple Operations:-**\n",
        " 1. concatnation:-Used to add(concat) 2 or more tuple.\n",
        "```\n",
        "a=(1,2,3)\n",
        "b=('a','b','c')\n",
        "c=a+b\n",
        "print(c)\n",
        "#OUT:- (1,2,3,'a','b','c')  # THIS IS CONCATNATION\n",
        "```\n",
        "\n",
        "2. Repetation:- Used to print an entire tuple multiple times\n",
        "```\n",
        "a=(1,2,3)\n",
        "print(a*3)\n",
        "#out:-(1, 2, 3, 1, 2, 3, 1, 2, 3)\n",
        "```\n",
        "\n",
        "**Tuple functions:-**\n",
        "1. count():-To print how many time a certain element is there in a tuple.\n",
        "```\n",
        "a=(1,2,3,3,3423,23,42)\n",
        "print(a.count(3))\n",
        "#out:-2\n",
        "```\n",
        "\n",
        "2. index():-To find the index value of a element\n",
        "```\n",
        "a=(1,2,3)\n",
        "a.index(3)\n",
        "#out:-2\n",
        "```\n",
        "\n",
        "3. len():-To find the length of a tuple\n",
        "```\n",
        "a=(1,2,3)\n",
        "len(a)\n",
        "#out:-3\n",
        "```"
      ],
      "metadata": {
        "id": "p3_cHMa6jL4r"
      }
    },
    {
      "cell_type": "code",
      "source": [],
      "metadata": {
        "id": "6N5ciLLnjOgm"
      },
      "execution_count": null,
      "outputs": []
    },
    {
      "cell_type": "markdown",
      "source": [],
      "metadata": {
        "id": "-9s_y5qXjPte"
      }
    }
  ]
}