{
  "nbformat": 4,
  "nbformat_minor": 0,
  "metadata": {
    "colab": {
      "provenance": [],
      "authorship_tag": "ABX9TyMWASQ+7rJ21ybELdVHgz74",
      "include_colab_link": true
    },
    "kernelspec": {
      "name": "python3",
      "display_name": "Python 3"
    },
    "language_info": {
      "name": "python"
    }
  },
  "cells": [
    {
      "cell_type": "markdown",
      "metadata": {
        "id": "view-in-github",
        "colab_type": "text"
      },
      "source": [
        "<a href=\"https://colab.research.google.com/github/mahindragudimetla/Python/blob/main/python_File_Handling.ipynb\" target=\"_parent\"><img src=\"https://colab.research.google.com/assets/colab-badge.svg\" alt=\"Open In Colab\"/></a>"
      ]
    },
    {
      "cell_type": "code",
      "execution_count": null,
      "metadata": {
        "id": "VX5mkO8a-FFm"
      },
      "outputs": [],
      "source": []
    },
    {
      "cell_type": "markdown",
      "source": [
        "# **File Handling:-**\n",
        "\n",
        "**I.Opening Files in Python:-**\n",
        "\n",
        " we use the open() method to open files.\n",
        "\n",
        ""
      ],
      "metadata": {
        "id": "mJuc0Wh3AjbI"
      }
    },
    {
      "cell_type": "code",
      "source": [
        "a=open(r\"C:\\Users\\GoGreen\\OneDrive\\Desktop\\Desktop\\example.txt\")"
      ],
      "metadata": {
        "colab": {
          "base_uri": "https://localhost:8080/",
          "height": 141
        },
        "id": "hkXAIvoFAw62",
        "outputId": "1281767f-4ebb-419a-d636-edcae30ea1ed"
      },
      "execution_count": 4,
      "outputs": [
        {
          "output_type": "error",
          "ename": "FileNotFoundError",
          "evalue": "[Errno 2] No such file or directory: 'C:\\\\Users\\\\GoGreen\\\\OneDrive\\\\Desktop\\\\Desktop\\\\example.txt'",
          "traceback": [
            "\u001b[0;31m---------------------------------------------------------------------------\u001b[0m",
            "\u001b[0;31mFileNotFoundError\u001b[0m                         Traceback (most recent call last)",
            "\u001b[0;32m<ipython-input-4-562f2537922e>\u001b[0m in \u001b[0;36m<cell line: 0>\u001b[0;34m()\u001b[0m\n\u001b[0;32m----> 1\u001b[0;31m \u001b[0ma\u001b[0m\u001b[0;34m=\u001b[0m\u001b[0mopen\u001b[0m\u001b[0;34m(\u001b[0m\u001b[0;34mr\"C:\\Users\\GoGreen\\OneDrive\\Desktop\\Desktop\\example.txt\"\u001b[0m\u001b[0;34m)\u001b[0m\u001b[0;34m\u001b[0m\u001b[0;34m\u001b[0m\u001b[0m\n\u001b[0m",
            "\u001b[0;31mFileNotFoundError\u001b[0m: [Errno 2] No such file or directory: 'C:\\\\Users\\\\GoGreen\\\\OneDrive\\\\Desktop\\\\Desktop\\\\example.txt'"
          ]
        }
      ]
    },
    {
      "cell_type": "code",
      "source": [],
      "metadata": {
        "id": "Vbl-Z1BPBfm5"
      },
      "execution_count": null,
      "outputs": []
    },
    {
      "cell_type": "markdown",
      "source": [
        "**modes in opening a file:-**\n",
        "1. r- read\n",
        "2. w- write\n",
        "3. a- appened\n",
        "4. etc...\n",
        "\n",
        "---\n",
        "**II.Closing Files in Python:-**\n",
        "\n",
        "When we are done with performing operations on the file, we need to properly close the file.\n",
        "\n",
        "Closing a file will free up the resources that were tied with the file.\n",
        "\n",
        "It is done using the close() method in Python. For example,\n",
        "\n"
      ],
      "metadata": {
        "id": "l55dqhPUDvm2"
      }
    },
    {
      "cell_type": "code",
      "source": [
        "a.close()"
      ],
      "metadata": {
        "id": "C7bsdeibEO81"
      },
      "execution_count": null,
      "outputs": []
    },
    {
      "cell_type": "markdown",
      "source": [
        "**III.Exception Handling in Files**\n",
        "\n",
        "Exception handling with try, except, else, and finally\n",
        "1. Try: This block will test the excepted error to occur\n",
        "2. Except:  Here you can handle the error\n",
        "3. Else: If there is no exception then this block will be executed\n",
        "4. Finally: Finally block always gets executed either exception is generated or not\n",
        "\n",
        "If an exception occurs when we are performing some operation with the file, the code exits without closing the file.\n",
        "\n",
        "A safer way is to use a try...finally block.\n",
        "\n"
      ],
      "metadata": {
        "id": "5uCThx8HEVuu"
      }
    },
    {
      "cell_type": "markdown",
      "source": [
        "# **pass, continue and break statements:-**\n",
        "\n",
        "1. Break Statement in Python:-\n",
        "\n",
        "The break statement in Python is used to exit or “break” out of a loop (either a for or while loop) prematurely, before the loop has iterated through all its items or reached its condition. When the break statement is executed, the program immediately exits the loop, and the control moves to the next line of code after the loop.\n",
        "\n",
        "2. Continue Statement in Python:-\n",
        "\n",
        "Python Continue statement is a loop control statement that forces to execute the next iteration of the loop while skipping the rest of the code inside the loop for the current iteration only, i.e. when the continue statement is executed in the loop, the code inside the loop following the continue statement will be skipped for the current iteration and the next iteration of the loop will begin.\n",
        "\n",
        "3. Pass Statement in Python:-\n",
        "\n",
        "Pass statement in Python is a null operation or a placeholder. It is used when a statement is syntactically required but we don’t want to execute any code. It does nothing but allows us to maintain the structure of our program.\n",
        "\n",
        "\n",
        "\n"
      ],
      "metadata": {
        "id": "2-7hGzGCHArQ"
      }
    },
    {
      "cell_type": "code",
      "source": [],
      "metadata": {
        "id": "ACNGyF_bFbJx"
      },
      "execution_count": null,
      "outputs": []
    },
    {
      "cell_type": "markdown",
      "source": [
        "# **Regular Expressions:-**\n",
        "\n",
        "Regular expressions (regex or regexp) are powerful tools for pattern matching and text manipulation in Python.\n",
        "\n",
        "They provide a concise and flexible way to search, match, and manipulate strings based on specific patterns.\n",
        "\n",
        "**RegEx function:-**\n",
        "The re module offers a set of functions that allows us to search a string for a match:\n",
        "\n",
        "1. findall():-\n",
        "The findall() function returns a list containing all matches.\n",
        "```\n",
        "import re\n",
        "txt = \"The rain in Spain\"\n",
        "x = re.findall(\"i\", txt)\n",
        "if x:\n",
        "    print(\"Matched\",x)\n",
        "else:\n",
        "    print(\"Not Matched\")\n",
        "```\n",
        "2. search():-\n",
        "The search() function searches the string for a match, and returns a Match object if there is a match.\n",
        "If there is more than one match, only the first occurrence of the match will be returned:\n",
        "```\n",
        "import re\n",
        "txt = \"The rain in India\"\n",
        "x = re.search(\"\\s\", txt)\n",
        "print(\"The first white-space character is located in position:\", x.start())\n",
        "```\n",
        "3. split():-\n",
        "The split() function returns a list where the string has been split at each match:\n",
        "```\n",
        "import re\n",
        "txt = \"The rain in Spain\"\n",
        "x = re.split(\"\\s\", txt)\n",
        "print(x)\n",
        "```\n",
        "4. sub():-\n",
        "The sub() function replaces the matches with the text of your choice\n",
        "```\n",
        "import re\n",
        "txt = \"The rain in Spain\"\n",
        "x = re.sub(\"\\s\", \"2\", txt)\n",
        "print(x)\n",
        "```\n"
      ],
      "metadata": {
        "id": "G-zracDRFbiw"
      }
    },
    {
      "cell_type": "markdown",
      "source": [],
      "metadata": {
        "id": "UmVxO4GqG12V"
      }
    }
  ]
}